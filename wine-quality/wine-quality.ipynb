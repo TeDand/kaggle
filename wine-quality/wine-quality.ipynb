{
 "cells": [
  {
   "cell_type": "code",
   "execution_count": 1,
   "id": "411a8679",
   "metadata": {
    "_cell_guid": "b1076dfc-b9ad-4769-8c92-a6c4dae69d19",
    "_uuid": "8f2839f25d086af736a60e9eeb907d3b93b6e0e5",
    "execution": {
     "iopub.execute_input": "2023-04-23T21:32:36.373125Z",
     "iopub.status.busy": "2023-04-23T21:32:36.372358Z",
     "iopub.status.idle": "2023-04-23T21:32:36.391322Z",
     "shell.execute_reply": "2023-04-23T21:32:36.389888Z"
    },
    "papermill": {
     "duration": 0.02669,
     "end_time": "2023-04-23T21:32:36.393649",
     "exception": false,
     "start_time": "2023-04-23T21:32:36.366959",
     "status": "completed"
    },
    "tags": []
   },
   "outputs": [
    {
     "name": "stdout",
     "output_type": "stream",
     "text": [
      "/kaggle/input/red-wine-quality-cortez-et-al-2009/winequality-red.csv\n"
     ]
    }
   ],
   "source": [
    "# This Python 3 environment comes with many helpful analytics libraries installed\n",
    "# It is defined by the kaggle/python Docker image: https://github.com/kaggle/docker-python\n",
    "# For example, here's several helpful packages to load\n",
    "\n",
    "import numpy as np # linear algebra\n",
    "import pandas as pd # data processing, CSV file I/O (e.g. pd.read_csv)\n",
    "\n",
    "# Input data files are available in the read-only \"../input/\" directory\n",
    "# For example, running this (by clicking run or pressing Shift+Enter) will list all files under the input directory\n",
    "\n",
    "import os\n",
    "for dirname, _, filenames in os.walk('/kaggle/input'):\n",
    "    for filename in filenames:\n",
    "        print(os.path.join(dirname, filename))\n",
    "\n",
    "# You can write up to 20GB to the current directory (/kaggle/working/) that gets preserved as output when you create a version using \"Save & Run All\" \n",
    "# You can also write temporary files to /kaggle/temp/, but they won't be saved outside of the current session"
   ]
  },
  {
   "cell_type": "code",
   "execution_count": 2,
   "id": "142e02eb",
   "metadata": {
    "execution": {
     "iopub.execute_input": "2023-04-23T21:32:36.400297Z",
     "iopub.status.busy": "2023-04-23T21:32:36.399923Z",
     "iopub.status.idle": "2023-04-23T21:32:36.448008Z",
     "shell.execute_reply": "2023-04-23T21:32:36.446745Z"
    },
    "papermill": {
     "duration": 0.05403,
     "end_time": "2023-04-23T21:32:36.450429",
     "exception": false,
     "start_time": "2023-04-23T21:32:36.396399",
     "status": "completed"
    },
    "tags": []
   },
   "outputs": [
    {
     "data": {
      "text/html": [
       "<div>\n",
       "<style scoped>\n",
       "    .dataframe tbody tr th:only-of-type {\n",
       "        vertical-align: middle;\n",
       "    }\n",
       "\n",
       "    .dataframe tbody tr th {\n",
       "        vertical-align: top;\n",
       "    }\n",
       "\n",
       "    .dataframe thead th {\n",
       "        text-align: right;\n",
       "    }\n",
       "</style>\n",
       "<table border=\"1\" class=\"dataframe\">\n",
       "  <thead>\n",
       "    <tr style=\"text-align: right;\">\n",
       "      <th></th>\n",
       "      <th>fixed acidity</th>\n",
       "      <th>volatile acidity</th>\n",
       "      <th>citric acid</th>\n",
       "      <th>residual sugar</th>\n",
       "      <th>chlorides</th>\n",
       "      <th>free sulfur dioxide</th>\n",
       "      <th>total sulfur dioxide</th>\n",
       "      <th>density</th>\n",
       "      <th>pH</th>\n",
       "      <th>sulphates</th>\n",
       "      <th>alcohol</th>\n",
       "      <th>quality</th>\n",
       "    </tr>\n",
       "  </thead>\n",
       "  <tbody>\n",
       "    <tr>\n",
       "      <th>0</th>\n",
       "      <td>7.4</td>\n",
       "      <td>0.70</td>\n",
       "      <td>0.00</td>\n",
       "      <td>1.9</td>\n",
       "      <td>0.076</td>\n",
       "      <td>11.0</td>\n",
       "      <td>34.0</td>\n",
       "      <td>0.9978</td>\n",
       "      <td>3.51</td>\n",
       "      <td>0.56</td>\n",
       "      <td>9.4</td>\n",
       "      <td>5</td>\n",
       "    </tr>\n",
       "    <tr>\n",
       "      <th>1</th>\n",
       "      <td>7.8</td>\n",
       "      <td>0.88</td>\n",
       "      <td>0.00</td>\n",
       "      <td>2.6</td>\n",
       "      <td>0.098</td>\n",
       "      <td>25.0</td>\n",
       "      <td>67.0</td>\n",
       "      <td>0.9968</td>\n",
       "      <td>3.20</td>\n",
       "      <td>0.68</td>\n",
       "      <td>9.8</td>\n",
       "      <td>5</td>\n",
       "    </tr>\n",
       "    <tr>\n",
       "      <th>2</th>\n",
       "      <td>7.8</td>\n",
       "      <td>0.76</td>\n",
       "      <td>0.04</td>\n",
       "      <td>2.3</td>\n",
       "      <td>0.092</td>\n",
       "      <td>15.0</td>\n",
       "      <td>54.0</td>\n",
       "      <td>0.9970</td>\n",
       "      <td>3.26</td>\n",
       "      <td>0.65</td>\n",
       "      <td>9.8</td>\n",
       "      <td>5</td>\n",
       "    </tr>\n",
       "    <tr>\n",
       "      <th>3</th>\n",
       "      <td>11.2</td>\n",
       "      <td>0.28</td>\n",
       "      <td>0.56</td>\n",
       "      <td>1.9</td>\n",
       "      <td>0.075</td>\n",
       "      <td>17.0</td>\n",
       "      <td>60.0</td>\n",
       "      <td>0.9980</td>\n",
       "      <td>3.16</td>\n",
       "      <td>0.58</td>\n",
       "      <td>9.8</td>\n",
       "      <td>6</td>\n",
       "    </tr>\n",
       "    <tr>\n",
       "      <th>4</th>\n",
       "      <td>7.4</td>\n",
       "      <td>0.70</td>\n",
       "      <td>0.00</td>\n",
       "      <td>1.9</td>\n",
       "      <td>0.076</td>\n",
       "      <td>11.0</td>\n",
       "      <td>34.0</td>\n",
       "      <td>0.9978</td>\n",
       "      <td>3.51</td>\n",
       "      <td>0.56</td>\n",
       "      <td>9.4</td>\n",
       "      <td>5</td>\n",
       "    </tr>\n",
       "  </tbody>\n",
       "</table>\n",
       "</div>"
      ],
      "text/plain": [
       "   fixed acidity  volatile acidity  citric acid  residual sugar  chlorides  \\\n",
       "0            7.4              0.70         0.00             1.9      0.076   \n",
       "1            7.8              0.88         0.00             2.6      0.098   \n",
       "2            7.8              0.76         0.04             2.3      0.092   \n",
       "3           11.2              0.28         0.56             1.9      0.075   \n",
       "4            7.4              0.70         0.00             1.9      0.076   \n",
       "\n",
       "   free sulfur dioxide  total sulfur dioxide  density    pH  sulphates  \\\n",
       "0                 11.0                  34.0   0.9978  3.51       0.56   \n",
       "1                 25.0                  67.0   0.9968  3.20       0.68   \n",
       "2                 15.0                  54.0   0.9970  3.26       0.65   \n",
       "3                 17.0                  60.0   0.9980  3.16       0.58   \n",
       "4                 11.0                  34.0   0.9978  3.51       0.56   \n",
       "\n",
       "   alcohol  quality  \n",
       "0      9.4        5  \n",
       "1      9.8        5  \n",
       "2      9.8        5  \n",
       "3      9.8        6  \n",
       "4      9.4        5  "
      ]
     },
     "execution_count": 2,
     "metadata": {},
     "output_type": "execute_result"
    }
   ],
   "source": [
    "data = pd.read_csv('/kaggle/input/red-wine-quality-cortez-et-al-2009/winequality-red.csv')\n",
    "data.head()"
   ]
  },
  {
   "cell_type": "code",
   "execution_count": 3,
   "id": "709e18f4",
   "metadata": {
    "execution": {
     "iopub.execute_input": "2023-04-23T21:32:36.458038Z",
     "iopub.status.busy": "2023-04-23T21:32:36.457053Z",
     "iopub.status.idle": "2023-04-23T21:32:44.924549Z",
     "shell.execute_reply": "2023-04-23T21:32:44.923469Z"
    },
    "papermill": {
     "duration": 8.473875,
     "end_time": "2023-04-23T21:32:44.927162",
     "exception": false,
     "start_time": "2023-04-23T21:32:36.453287",
     "status": "completed"
    },
    "tags": []
   },
   "outputs": [
    {
     "name": "stdout",
     "output_type": "stream",
     "text": [
      "(1599, 11)\n",
      "(1599, 11)\n"
     ]
    }
   ],
   "source": [
    "from sklearn.model_selection import train_test_split\n",
    "from keras.utils import to_categorical\n",
    "\n",
    "X = data.iloc[:, :-1].values\n",
    "y = to_categorical(data.iloc[:, -1:].values, 11)\n",
    "\n",
    "X_train, X_rem, y_train, y_rem = train_test_split(X, y, train_size=0.8)\n",
    "X_valid, X_test, y_valid, y_test = train_test_split(X_rem, y_rem, test_size=0.5)\n",
    "\n",
    "print(X.shape)\n",
    "print(y.shape)"
   ]
  },
  {
   "cell_type": "code",
   "execution_count": 4,
   "id": "0d4a82d3",
   "metadata": {
    "execution": {
     "iopub.execute_input": "2023-04-23T21:32:44.935275Z",
     "iopub.status.busy": "2023-04-23T21:32:44.933956Z",
     "iopub.status.idle": "2023-04-23T21:32:57.415494Z",
     "shell.execute_reply": "2023-04-23T21:32:57.414205Z"
    },
    "papermill": {
     "duration": 12.488123,
     "end_time": "2023-04-23T21:32:57.418154",
     "exception": false,
     "start_time": "2023-04-23T21:32:44.930031",
     "status": "completed"
    },
    "tags": []
   },
   "outputs": [
    {
     "name": "stdout",
     "output_type": "stream",
     "text": [
      "Epoch 1/50\n",
      "40/40 [==============================] - 2s 11ms/step - loss: 1.4096 - accuracy: 0.4332 - val_loss: 1.3550 - val_accuracy: 0.4125\n",
      "Epoch 2/50\n",
      "40/40 [==============================] - 0s 5ms/step - loss: 1.2070 - accuracy: 0.4949 - val_loss: 1.2200 - val_accuracy: 0.4500\n",
      "Epoch 3/50\n",
      "40/40 [==============================] - 0s 5ms/step - loss: 1.1700 - accuracy: 0.4949 - val_loss: 1.1882 - val_accuracy: 0.4812\n",
      "Epoch 4/50\n",
      "40/40 [==============================] - 0s 5ms/step - loss: 1.1456 - accuracy: 0.5020 - val_loss: 1.2129 - val_accuracy: 0.4812\n",
      "Epoch 5/50\n",
      "40/40 [==============================] - 0s 5ms/step - loss: 1.1456 - accuracy: 0.4902 - val_loss: 1.1963 - val_accuracy: 0.4875\n",
      "Epoch 6/50\n",
      "40/40 [==============================] - 0s 5ms/step - loss: 1.1409 - accuracy: 0.4996 - val_loss: 1.2043 - val_accuracy: 0.4938\n",
      "Epoch 7/50\n",
      "40/40 [==============================] - 0s 5ms/step - loss: 1.1229 - accuracy: 0.5113 - val_loss: 1.1683 - val_accuracy: 0.4688\n",
      "Epoch 8/50\n",
      "40/40 [==============================] - 0s 5ms/step - loss: 1.1011 - accuracy: 0.5293 - val_loss: 1.1676 - val_accuracy: 0.4875\n",
      "Epoch 9/50\n",
      "40/40 [==============================] - 0s 5ms/step - loss: 1.1224 - accuracy: 0.5278 - val_loss: 1.2419 - val_accuracy: 0.4500\n",
      "Epoch 10/50\n",
      "40/40 [==============================] - 0s 5ms/step - loss: 1.0895 - accuracy: 0.5254 - val_loss: 1.1382 - val_accuracy: 0.5125\n",
      "Epoch 11/50\n",
      "40/40 [==============================] - 0s 5ms/step - loss: 1.0701 - accuracy: 0.5379 - val_loss: 1.1020 - val_accuracy: 0.4938\n",
      "Epoch 12/50\n",
      "40/40 [==============================] - 0s 5ms/step - loss: 1.0814 - accuracy: 0.5567 - val_loss: 1.1015 - val_accuracy: 0.5312\n",
      "Epoch 13/50\n",
      "40/40 [==============================] - 0s 5ms/step - loss: 1.0572 - accuracy: 0.5489 - val_loss: 1.1016 - val_accuracy: 0.5312\n",
      "Epoch 14/50\n",
      "40/40 [==============================] - 0s 5ms/step - loss: 1.0364 - accuracy: 0.5512 - val_loss: 1.1403 - val_accuracy: 0.5250\n",
      "Epoch 15/50\n",
      "40/40 [==============================] - 0s 5ms/step - loss: 1.0256 - accuracy: 0.5653 - val_loss: 1.1386 - val_accuracy: 0.5063\n",
      "Epoch 16/50\n",
      "40/40 [==============================] - 0s 5ms/step - loss: 1.0164 - accuracy: 0.5715 - val_loss: 1.0681 - val_accuracy: 0.5375\n",
      "Epoch 17/50\n",
      "40/40 [==============================] - 0s 5ms/step - loss: 1.0061 - accuracy: 0.5723 - val_loss: 1.0787 - val_accuracy: 0.5437\n",
      "Epoch 18/50\n",
      "40/40 [==============================] - 0s 5ms/step - loss: 1.0098 - accuracy: 0.5637 - val_loss: 1.0820 - val_accuracy: 0.5562\n",
      "Epoch 19/50\n",
      "40/40 [==============================] - 0s 5ms/step - loss: 1.0091 - accuracy: 0.5661 - val_loss: 1.0569 - val_accuracy: 0.5375\n",
      "Epoch 20/50\n",
      "40/40 [==============================] - 0s 5ms/step - loss: 0.9803 - accuracy: 0.5762 - val_loss: 1.1127 - val_accuracy: 0.4875\n",
      "Epoch 21/50\n",
      "40/40 [==============================] - 0s 5ms/step - loss: 0.9892 - accuracy: 0.5825 - val_loss: 1.1107 - val_accuracy: 0.5312\n",
      "Epoch 22/50\n",
      "40/40 [==============================] - 0s 5ms/step - loss: 0.9625 - accuracy: 0.5833 - val_loss: 1.0225 - val_accuracy: 0.5375\n",
      "Epoch 23/50\n",
      "40/40 [==============================] - 0s 5ms/step - loss: 0.9900 - accuracy: 0.5700 - val_loss: 1.0489 - val_accuracy: 0.5312\n",
      "Epoch 24/50\n",
      "40/40 [==============================] - 0s 5ms/step - loss: 0.9890 - accuracy: 0.5708 - val_loss: 1.0943 - val_accuracy: 0.5312\n",
      "Epoch 25/50\n",
      "40/40 [==============================] - 0s 5ms/step - loss: 0.9798 - accuracy: 0.5778 - val_loss: 1.0495 - val_accuracy: 0.5875\n",
      "Epoch 26/50\n",
      "40/40 [==============================] - 0s 5ms/step - loss: 0.9557 - accuracy: 0.5981 - val_loss: 1.1069 - val_accuracy: 0.5312\n",
      "Epoch 27/50\n",
      "40/40 [==============================] - 0s 5ms/step - loss: 0.9577 - accuracy: 0.5754 - val_loss: 1.0363 - val_accuracy: 0.5625\n",
      "Epoch 28/50\n",
      "40/40 [==============================] - 0s 5ms/step - loss: 0.9663 - accuracy: 0.5778 - val_loss: 1.0822 - val_accuracy: 0.5250\n",
      "Epoch 29/50\n",
      "40/40 [==============================] - 0s 5ms/step - loss: 0.9528 - accuracy: 0.5833 - val_loss: 1.0321 - val_accuracy: 0.5562\n",
      "Epoch 30/50\n",
      "40/40 [==============================] - 0s 5ms/step - loss: 0.9502 - accuracy: 0.5872 - val_loss: 1.0706 - val_accuracy: 0.5500\n",
      "Epoch 31/50\n",
      "40/40 [==============================] - 0s 5ms/step - loss: 0.9413 - accuracy: 0.5927 - val_loss: 1.0125 - val_accuracy: 0.5625\n",
      "Epoch 32/50\n",
      "40/40 [==============================] - 0s 5ms/step - loss: 0.9303 - accuracy: 0.5934 - val_loss: 1.0226 - val_accuracy: 0.5375\n",
      "Epoch 33/50\n",
      "40/40 [==============================] - 0s 5ms/step - loss: 0.9294 - accuracy: 0.5927 - val_loss: 1.0466 - val_accuracy: 0.5437\n",
      "Epoch 34/50\n",
      "40/40 [==============================] - 0s 5ms/step - loss: 0.9524 - accuracy: 0.5903 - val_loss: 1.0148 - val_accuracy: 0.5562\n",
      "Epoch 35/50\n",
      "40/40 [==============================] - 0s 5ms/step - loss: 0.9162 - accuracy: 0.5966 - val_loss: 1.1114 - val_accuracy: 0.5250\n",
      "Epoch 36/50\n",
      "40/40 [==============================] - 0s 5ms/step - loss: 0.9110 - accuracy: 0.6036 - val_loss: 1.0281 - val_accuracy: 0.5625\n",
      "Epoch 37/50\n",
      "40/40 [==============================] - 0s 5ms/step - loss: 0.9155 - accuracy: 0.6020 - val_loss: 1.0763 - val_accuracy: 0.5500\n",
      "Epoch 38/50\n",
      "40/40 [==============================] - 0s 5ms/step - loss: 0.9162 - accuracy: 0.5981 - val_loss: 1.0127 - val_accuracy: 0.5750\n",
      "Epoch 39/50\n",
      "40/40 [==============================] - 0s 5ms/step - loss: 0.8982 - accuracy: 0.5981 - val_loss: 1.0040 - val_accuracy: 0.5688\n",
      "Epoch 40/50\n",
      "40/40 [==============================] - 0s 5ms/step - loss: 0.8900 - accuracy: 0.6052 - val_loss: 1.0018 - val_accuracy: 0.5562\n",
      "Epoch 41/50\n",
      "40/40 [==============================] - 0s 5ms/step - loss: 0.8901 - accuracy: 0.6138 - val_loss: 1.0471 - val_accuracy: 0.5813\n",
      "Epoch 42/50\n",
      "40/40 [==============================] - 0s 5ms/step - loss: 0.8974 - accuracy: 0.6106 - val_loss: 1.0890 - val_accuracy: 0.5500\n",
      "Epoch 43/50\n",
      "40/40 [==============================] - 0s 5ms/step - loss: 0.8959 - accuracy: 0.6145 - val_loss: 1.0304 - val_accuracy: 0.5562\n",
      "Epoch 44/50\n",
      "40/40 [==============================] - 0s 5ms/step - loss: 0.8970 - accuracy: 0.6036 - val_loss: 1.0161 - val_accuracy: 0.5500\n",
      "Epoch 45/50\n",
      "40/40 [==============================] - 0s 5ms/step - loss: 0.8816 - accuracy: 0.6145 - val_loss: 1.0669 - val_accuracy: 0.5625\n",
      "Epoch 46/50\n",
      "40/40 [==============================] - 0s 5ms/step - loss: 0.8790 - accuracy: 0.6138 - val_loss: 1.0185 - val_accuracy: 0.5875\n",
      "Epoch 47/50\n",
      "40/40 [==============================] - 0s 5ms/step - loss: 0.8840 - accuracy: 0.6200 - val_loss: 1.0513 - val_accuracy: 0.5125\n",
      "Epoch 48/50\n",
      "40/40 [==============================] - 0s 5ms/step - loss: 0.8965 - accuracy: 0.6028 - val_loss: 1.0224 - val_accuracy: 0.5813\n",
      "Epoch 49/50\n",
      "40/40 [==============================] - 0s 5ms/step - loss: 0.8945 - accuracy: 0.6177 - val_loss: 1.0510 - val_accuracy: 0.5562\n",
      "Epoch 50/50\n",
      "40/40 [==============================] - 0s 4ms/step - loss: 0.8698 - accuracy: 0.6247 - val_loss: 1.0132 - val_accuracy: 0.5375\n",
      "5/5 [==============================] - 0s 3ms/step - loss: 0.9241 - accuracy: 0.6187\n",
      "Accuracy: 61.87\n"
     ]
    }
   ],
   "source": [
    "from tensorflow.keras.models import Sequential\n",
    "from tensorflow.keras.layers import Dense\n",
    "\n",
    "model = Sequential()\n",
    "model.add(Dense(512, activation='relu'))\n",
    "model.add(Dense(256, activation='relu'))\n",
    "model.add(Dense(128, activation='relu'))\n",
    "model.add(Dense(64, activation='relu'))\n",
    "model.add(Dense(11, activation='softmax'))\n",
    "\n",
    "model.compile(optimizer='adam',\n",
    "              loss='categorical_crossentropy',\n",
    "              metrics=['accuracy'])\n",
    "\n",
    "model.fit(X_train, y_train, epochs=50, batch_size=32, validation_data=(X_valid, y_valid))\n",
    "\n",
    "loss, accuracy = model.evaluate(X_test, y_test)\n",
    "print('Accuracy: %.2f' % (accuracy*100))"
   ]
  },
  {
   "cell_type": "code",
   "execution_count": 5,
   "id": "f2d929dc",
   "metadata": {
    "execution": {
     "iopub.execute_input": "2023-04-23T21:32:57.460638Z",
     "iopub.status.busy": "2023-04-23T21:32:57.460191Z",
     "iopub.status.idle": "2023-04-23T21:32:57.712355Z",
     "shell.execute_reply": "2023-04-23T21:32:57.710914Z"
    },
    "papermill": {
     "duration": 0.276065,
     "end_time": "2023-04-23T21:32:57.714866",
     "exception": false,
     "start_time": "2023-04-23T21:32:57.438801",
     "status": "completed"
    },
    "tags": []
   },
   "outputs": [
    {
     "name": "stdout",
     "output_type": "stream",
     "text": [
      "Accuracy: 0.6375\n"
     ]
    }
   ],
   "source": [
    "from sklearn.tree import DecisionTreeClassifier\n",
    "from sklearn import metrics\n",
    "\n",
    "clf = DecisionTreeClassifier()\n",
    "clf.fit(X_train, y_train)\n",
    "y_pred = clf.predict(X_test)\n",
    "print(\"Accuracy:\", metrics.accuracy_score(y_test, y_pred))"
   ]
  },
  {
   "cell_type": "code",
   "execution_count": null,
   "id": "78b49b5d",
   "metadata": {
    "papermill": {
     "duration": 0.019348,
     "end_time": "2023-04-23T21:32:57.753945",
     "exception": false,
     "start_time": "2023-04-23T21:32:57.734597",
     "status": "completed"
    },
    "tags": []
   },
   "outputs": [],
   "source": []
  }
 ],
 "metadata": {
  "kernelspec": {
   "display_name": "Python 3",
   "language": "python",
   "name": "python3"
  },
  "language_info": {
   "codemirror_mode": {
    "name": "ipython",
    "version": 3
   },
   "file_extension": ".py",
   "mimetype": "text/x-python",
   "name": "python",
   "nbconvert_exporter": "python",
   "pygments_lexer": "ipython3",
   "version": "3.7.12"
  },
  "papermill": {
   "default_parameters": {},
   "duration": 34.688458,
   "end_time": "2023-04-23T21:33:01.104545",
   "environment_variables": {},
   "exception": null,
   "input_path": "__notebook__.ipynb",
   "output_path": "__notebook__.ipynb",
   "parameters": {},
   "start_time": "2023-04-23T21:32:26.416087",
   "version": "2.4.0"
  }
 },
 "nbformat": 4,
 "nbformat_minor": 5
}
