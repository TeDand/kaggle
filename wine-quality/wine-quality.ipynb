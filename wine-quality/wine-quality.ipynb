{
 "cells": [
  {
   "cell_type": "code",
   "execution_count": 1,
   "id": "ec963eec",
   "metadata": {
    "_cell_guid": "b1076dfc-b9ad-4769-8c92-a6c4dae69d19",
    "_uuid": "8f2839f25d086af736a60e9eeb907d3b93b6e0e5",
    "execution": {
     "iopub.execute_input": "2023-04-23T21:59:31.912059Z",
     "iopub.status.busy": "2023-04-23T21:59:31.911006Z",
     "iopub.status.idle": "2023-04-23T21:59:31.928903Z",
     "shell.execute_reply": "2023-04-23T21:59:31.927477Z"
    },
    "papermill": {
     "duration": 0.025974,
     "end_time": "2023-04-23T21:59:31.931378",
     "exception": false,
     "start_time": "2023-04-23T21:59:31.905404",
     "status": "completed"
    },
    "tags": []
   },
   "outputs": [
    {
     "name": "stdout",
     "output_type": "stream",
     "text": [
      "/kaggle/input/red-wine-quality-cortez-et-al-2009/winequality-red.csv\n"
     ]
    }
   ],
   "source": [
    "# This Python 3 environment comes with many helpful analytics libraries installed\n",
    "# It is defined by the kaggle/python Docker image: https://github.com/kaggle/docker-python\n",
    "# For example, here's several helpful packages to load\n",
    "\n",
    "import numpy as np # linear algebra\n",
    "import pandas as pd # data processing, CSV file I/O (e.g. pd.read_csv)\n",
    "\n",
    "# Input data files are available in the read-only \"../input/\" directory\n",
    "# For example, running this (by clicking run or pressing Shift+Enter) will list all files under the input directory\n",
    "\n",
    "import os\n",
    "for dirname, _, filenames in os.walk('/kaggle/input'):\n",
    "    for filename in filenames:\n",
    "        print(os.path.join(dirname, filename))\n",
    "\n",
    "# You can write up to 20GB to the current directory (/kaggle/working/) that gets preserved as output when you create a version using \"Save & Run All\" \n",
    "# You can also write temporary files to /kaggle/temp/, but they won't be saved outside of the current session"
   ]
  },
  {
   "cell_type": "code",
   "execution_count": 2,
   "id": "ef4c3686",
   "metadata": {
    "execution": {
     "iopub.execute_input": "2023-04-23T21:59:31.938458Z",
     "iopub.status.busy": "2023-04-23T21:59:31.938037Z",
     "iopub.status.idle": "2023-04-23T21:59:31.987725Z",
     "shell.execute_reply": "2023-04-23T21:59:31.986581Z"
    },
    "papermill": {
     "duration": 0.055998,
     "end_time": "2023-04-23T21:59:31.990185",
     "exception": false,
     "start_time": "2023-04-23T21:59:31.934187",
     "status": "completed"
    },
    "tags": []
   },
   "outputs": [
    {
     "data": {
      "text/html": [
       "<div>\n",
       "<style scoped>\n",
       "    .dataframe tbody tr th:only-of-type {\n",
       "        vertical-align: middle;\n",
       "    }\n",
       "\n",
       "    .dataframe tbody tr th {\n",
       "        vertical-align: top;\n",
       "    }\n",
       "\n",
       "    .dataframe thead th {\n",
       "        text-align: right;\n",
       "    }\n",
       "</style>\n",
       "<table border=\"1\" class=\"dataframe\">\n",
       "  <thead>\n",
       "    <tr style=\"text-align: right;\">\n",
       "      <th></th>\n",
       "      <th>fixed acidity</th>\n",
       "      <th>volatile acidity</th>\n",
       "      <th>citric acid</th>\n",
       "      <th>residual sugar</th>\n",
       "      <th>chlorides</th>\n",
       "      <th>free sulfur dioxide</th>\n",
       "      <th>total sulfur dioxide</th>\n",
       "      <th>density</th>\n",
       "      <th>pH</th>\n",
       "      <th>sulphates</th>\n",
       "      <th>alcohol</th>\n",
       "      <th>quality</th>\n",
       "    </tr>\n",
       "  </thead>\n",
       "  <tbody>\n",
       "    <tr>\n",
       "      <th>0</th>\n",
       "      <td>7.4</td>\n",
       "      <td>0.70</td>\n",
       "      <td>0.00</td>\n",
       "      <td>1.9</td>\n",
       "      <td>0.076</td>\n",
       "      <td>11.0</td>\n",
       "      <td>34.0</td>\n",
       "      <td>0.9978</td>\n",
       "      <td>3.51</td>\n",
       "      <td>0.56</td>\n",
       "      <td>9.4</td>\n",
       "      <td>5</td>\n",
       "    </tr>\n",
       "    <tr>\n",
       "      <th>1</th>\n",
       "      <td>7.8</td>\n",
       "      <td>0.88</td>\n",
       "      <td>0.00</td>\n",
       "      <td>2.6</td>\n",
       "      <td>0.098</td>\n",
       "      <td>25.0</td>\n",
       "      <td>67.0</td>\n",
       "      <td>0.9968</td>\n",
       "      <td>3.20</td>\n",
       "      <td>0.68</td>\n",
       "      <td>9.8</td>\n",
       "      <td>5</td>\n",
       "    </tr>\n",
       "    <tr>\n",
       "      <th>2</th>\n",
       "      <td>7.8</td>\n",
       "      <td>0.76</td>\n",
       "      <td>0.04</td>\n",
       "      <td>2.3</td>\n",
       "      <td>0.092</td>\n",
       "      <td>15.0</td>\n",
       "      <td>54.0</td>\n",
       "      <td>0.9970</td>\n",
       "      <td>3.26</td>\n",
       "      <td>0.65</td>\n",
       "      <td>9.8</td>\n",
       "      <td>5</td>\n",
       "    </tr>\n",
       "    <tr>\n",
       "      <th>3</th>\n",
       "      <td>11.2</td>\n",
       "      <td>0.28</td>\n",
       "      <td>0.56</td>\n",
       "      <td>1.9</td>\n",
       "      <td>0.075</td>\n",
       "      <td>17.0</td>\n",
       "      <td>60.0</td>\n",
       "      <td>0.9980</td>\n",
       "      <td>3.16</td>\n",
       "      <td>0.58</td>\n",
       "      <td>9.8</td>\n",
       "      <td>6</td>\n",
       "    </tr>\n",
       "    <tr>\n",
       "      <th>4</th>\n",
       "      <td>7.4</td>\n",
       "      <td>0.70</td>\n",
       "      <td>0.00</td>\n",
       "      <td>1.9</td>\n",
       "      <td>0.076</td>\n",
       "      <td>11.0</td>\n",
       "      <td>34.0</td>\n",
       "      <td>0.9978</td>\n",
       "      <td>3.51</td>\n",
       "      <td>0.56</td>\n",
       "      <td>9.4</td>\n",
       "      <td>5</td>\n",
       "    </tr>\n",
       "  </tbody>\n",
       "</table>\n",
       "</div>"
      ],
      "text/plain": [
       "   fixed acidity  volatile acidity  citric acid  residual sugar  chlorides  \\\n",
       "0            7.4              0.70         0.00             1.9      0.076   \n",
       "1            7.8              0.88         0.00             2.6      0.098   \n",
       "2            7.8              0.76         0.04             2.3      0.092   \n",
       "3           11.2              0.28         0.56             1.9      0.075   \n",
       "4            7.4              0.70         0.00             1.9      0.076   \n",
       "\n",
       "   free sulfur dioxide  total sulfur dioxide  density    pH  sulphates  \\\n",
       "0                 11.0                  34.0   0.9978  3.51       0.56   \n",
       "1                 25.0                  67.0   0.9968  3.20       0.68   \n",
       "2                 15.0                  54.0   0.9970  3.26       0.65   \n",
       "3                 17.0                  60.0   0.9980  3.16       0.58   \n",
       "4                 11.0                  34.0   0.9978  3.51       0.56   \n",
       "\n",
       "   alcohol  quality  \n",
       "0      9.4        5  \n",
       "1      9.8        5  \n",
       "2      9.8        5  \n",
       "3      9.8        6  \n",
       "4      9.4        5  "
      ]
     },
     "execution_count": 2,
     "metadata": {},
     "output_type": "execute_result"
    }
   ],
   "source": [
    "data = pd.read_csv('/kaggle/input/red-wine-quality-cortez-et-al-2009/winequality-red.csv')\n",
    "data.head()"
   ]
  },
  {
   "cell_type": "code",
   "execution_count": 3,
   "id": "7e998f54",
   "metadata": {
    "execution": {
     "iopub.execute_input": "2023-04-23T21:59:31.997680Z",
     "iopub.status.busy": "2023-04-23T21:59:31.997321Z",
     "iopub.status.idle": "2023-04-23T21:59:40.733371Z",
     "shell.execute_reply": "2023-04-23T21:59:40.731811Z"
    },
    "papermill": {
     "duration": 8.74294,
     "end_time": "2023-04-23T21:59:40.736261",
     "exception": false,
     "start_time": "2023-04-23T21:59:31.993321",
     "status": "completed"
    },
    "tags": []
   },
   "outputs": [
    {
     "name": "stdout",
     "output_type": "stream",
     "text": [
      "(1599, 11)\n",
      "(1599, 11)\n"
     ]
    }
   ],
   "source": [
    "from sklearn.model_selection import train_test_split\n",
    "from keras.utils import to_categorical\n",
    "\n",
    "X = data.iloc[:, :-1].values\n",
    "y = to_categorical(data.iloc[:, -1:].values, 11)\n",
    "\n",
    "X_train, X_rem, y_train, y_rem = train_test_split(X, y, train_size=0.8, random_state=42)\n",
    "X_valid, X_test, y_valid, y_test = train_test_split(X_rem, y_rem, test_size=0.5, random_state=42)\n",
    "\n",
    "print(X.shape)\n",
    "print(y.shape)"
   ]
  },
  {
   "cell_type": "code",
   "execution_count": 4,
   "id": "7b9af5c6",
   "metadata": {
    "execution": {
     "iopub.execute_input": "2023-04-23T21:59:40.744701Z",
     "iopub.status.busy": "2023-04-23T21:59:40.743382Z",
     "iopub.status.idle": "2023-04-23T21:59:53.188038Z",
     "shell.execute_reply": "2023-04-23T21:59:53.186447Z"
    },
    "papermill": {
     "duration": 12.451339,
     "end_time": "2023-04-23T21:59:53.190539",
     "exception": false,
     "start_time": "2023-04-23T21:59:40.739200",
     "status": "completed"
    },
    "tags": []
   },
   "outputs": [
    {
     "name": "stdout",
     "output_type": "stream",
     "text": [
      "Epoch 1/50\n",
      "40/40 [==============================] - 2s 11ms/step - loss: 1.3082 - accuracy: 0.4613 - val_loss: 1.2775 - val_accuracy: 0.4187\n",
      "Epoch 2/50\n",
      "40/40 [==============================] - 0s 5ms/step - loss: 1.1698 - accuracy: 0.4808 - val_loss: 1.2132 - val_accuracy: 0.4187\n",
      "Epoch 3/50\n",
      "40/40 [==============================] - 0s 5ms/step - loss: 1.1679 - accuracy: 0.4879 - val_loss: 1.2369 - val_accuracy: 0.4125\n",
      "Epoch 4/50\n",
      "40/40 [==============================] - 0s 5ms/step - loss: 1.1704 - accuracy: 0.4863 - val_loss: 1.2014 - val_accuracy: 0.4000\n",
      "Epoch 5/50\n",
      "40/40 [==============================] - 0s 7ms/step - loss: 1.1356 - accuracy: 0.5027 - val_loss: 1.2141 - val_accuracy: 0.4250\n",
      "Epoch 6/50\n",
      "40/40 [==============================] - 0s 6ms/step - loss: 1.1320 - accuracy: 0.5004 - val_loss: 1.2244 - val_accuracy: 0.4313\n",
      "Epoch 7/50\n",
      "40/40 [==============================] - 0s 5ms/step - loss: 1.1283 - accuracy: 0.4973 - val_loss: 1.1779 - val_accuracy: 0.4125\n",
      "Epoch 8/50\n",
      "40/40 [==============================] - 0s 5ms/step - loss: 1.1240 - accuracy: 0.5129 - val_loss: 1.1978 - val_accuracy: 0.4250\n",
      "Epoch 9/50\n",
      "40/40 [==============================] - 0s 6ms/step - loss: 1.1178 - accuracy: 0.5043 - val_loss: 1.1729 - val_accuracy: 0.4563\n",
      "Epoch 10/50\n",
      "40/40 [==============================] - 0s 5ms/step - loss: 1.1149 - accuracy: 0.5254 - val_loss: 1.1711 - val_accuracy: 0.4437\n",
      "Epoch 11/50\n",
      "40/40 [==============================] - 0s 5ms/step - loss: 1.0885 - accuracy: 0.5145 - val_loss: 1.1561 - val_accuracy: 0.4625\n",
      "Epoch 12/50\n",
      "40/40 [==============================] - 0s 5ms/step - loss: 1.0885 - accuracy: 0.5356 - val_loss: 1.1964 - val_accuracy: 0.4313\n",
      "Epoch 13/50\n",
      "40/40 [==============================] - 0s 5ms/step - loss: 1.0601 - accuracy: 0.5410 - val_loss: 1.1147 - val_accuracy: 0.4812\n",
      "Epoch 14/50\n",
      "40/40 [==============================] - 0s 5ms/step - loss: 1.0490 - accuracy: 0.5481 - val_loss: 1.1951 - val_accuracy: 0.4938\n",
      "Epoch 15/50\n",
      "40/40 [==============================] - 0s 5ms/step - loss: 1.0510 - accuracy: 0.5379 - val_loss: 1.0562 - val_accuracy: 0.4750\n",
      "Epoch 16/50\n",
      "40/40 [==============================] - 0s 5ms/step - loss: 1.0685 - accuracy: 0.5481 - val_loss: 1.0771 - val_accuracy: 0.4938\n",
      "Epoch 17/50\n",
      "40/40 [==============================] - 0s 5ms/step - loss: 1.0364 - accuracy: 0.5457 - val_loss: 1.1752 - val_accuracy: 0.4625\n",
      "Epoch 18/50\n",
      "40/40 [==============================] - 0s 5ms/step - loss: 1.0186 - accuracy: 0.5754 - val_loss: 1.1101 - val_accuracy: 0.4750\n",
      "Epoch 19/50\n",
      "40/40 [==============================] - 0s 5ms/step - loss: 1.0143 - accuracy: 0.5661 - val_loss: 1.0660 - val_accuracy: 0.4812\n",
      "Epoch 20/50\n",
      "40/40 [==============================] - 0s 5ms/step - loss: 1.0220 - accuracy: 0.5676 - val_loss: 1.0540 - val_accuracy: 0.4875\n",
      "Epoch 21/50\n",
      "40/40 [==============================] - 0s 5ms/step - loss: 1.0058 - accuracy: 0.5817 - val_loss: 1.0824 - val_accuracy: 0.4750\n",
      "Epoch 22/50\n",
      "40/40 [==============================] - 0s 5ms/step - loss: 0.9793 - accuracy: 0.5715 - val_loss: 1.0125 - val_accuracy: 0.5250\n",
      "Epoch 23/50\n",
      "40/40 [==============================] - 0s 5ms/step - loss: 0.9898 - accuracy: 0.5739 - val_loss: 1.1914 - val_accuracy: 0.4750\n",
      "Epoch 24/50\n",
      "40/40 [==============================] - 0s 5ms/step - loss: 0.9915 - accuracy: 0.5536 - val_loss: 1.0275 - val_accuracy: 0.4875\n",
      "Epoch 25/50\n",
      "40/40 [==============================] - 0s 5ms/step - loss: 0.9695 - accuracy: 0.5786 - val_loss: 1.0379 - val_accuracy: 0.5375\n",
      "Epoch 26/50\n",
      "40/40 [==============================] - 0s 5ms/step - loss: 0.9776 - accuracy: 0.5825 - val_loss: 1.0092 - val_accuracy: 0.5000\n",
      "Epoch 27/50\n",
      "40/40 [==============================] - 0s 5ms/step - loss: 0.9541 - accuracy: 0.5786 - val_loss: 1.0570 - val_accuracy: 0.4750\n",
      "Epoch 28/50\n",
      "40/40 [==============================] - 0s 5ms/step - loss: 0.9538 - accuracy: 0.6013 - val_loss: 1.0145 - val_accuracy: 0.4750\n",
      "Epoch 29/50\n",
      "40/40 [==============================] - 0s 4ms/step - loss: 0.9572 - accuracy: 0.5911 - val_loss: 1.0078 - val_accuracy: 0.4812\n",
      "Epoch 30/50\n",
      "40/40 [==============================] - 0s 5ms/step - loss: 0.9280 - accuracy: 0.6106 - val_loss: 1.0054 - val_accuracy: 0.4938\n",
      "Epoch 31/50\n",
      "40/40 [==============================] - 0s 5ms/step - loss: 0.9431 - accuracy: 0.5895 - val_loss: 1.0342 - val_accuracy: 0.5250\n",
      "Epoch 32/50\n",
      "40/40 [==============================] - 0s 5ms/step - loss: 0.9559 - accuracy: 0.5794 - val_loss: 1.0672 - val_accuracy: 0.4812\n",
      "Epoch 33/50\n",
      "40/40 [==============================] - 0s 5ms/step - loss: 0.9528 - accuracy: 0.5864 - val_loss: 0.9775 - val_accuracy: 0.5250\n",
      "Epoch 34/50\n",
      "40/40 [==============================] - 0s 5ms/step - loss: 0.9636 - accuracy: 0.5841 - val_loss: 1.0029 - val_accuracy: 0.4875\n",
      "Epoch 35/50\n",
      "40/40 [==============================] - 0s 5ms/step - loss: 0.9597 - accuracy: 0.5919 - val_loss: 1.0152 - val_accuracy: 0.4875\n",
      "Epoch 36/50\n",
      "40/40 [==============================] - 0s 5ms/step - loss: 0.9135 - accuracy: 0.6169 - val_loss: 1.0053 - val_accuracy: 0.5188\n",
      "Epoch 37/50\n",
      "40/40 [==============================] - 0s 5ms/step - loss: 0.9074 - accuracy: 0.6044 - val_loss: 0.9826 - val_accuracy: 0.5437\n",
      "Epoch 38/50\n",
      "40/40 [==============================] - 0s 5ms/step - loss: 0.9272 - accuracy: 0.6059 - val_loss: 0.9780 - val_accuracy: 0.5250\n",
      "Epoch 39/50\n",
      "40/40 [==============================] - 0s 5ms/step - loss: 0.9104 - accuracy: 0.6052 - val_loss: 0.9726 - val_accuracy: 0.5188\n",
      "Epoch 40/50\n",
      "40/40 [==============================] - 0s 5ms/step - loss: 0.9284 - accuracy: 0.6013 - val_loss: 1.0040 - val_accuracy: 0.5437\n",
      "Epoch 41/50\n",
      "40/40 [==============================] - 0s 5ms/step - loss: 0.9167 - accuracy: 0.6013 - val_loss: 1.0136 - val_accuracy: 0.5188\n",
      "Epoch 42/50\n",
      "40/40 [==============================] - 0s 5ms/step - loss: 0.9039 - accuracy: 0.6208 - val_loss: 1.0247 - val_accuracy: 0.5437\n",
      "Epoch 43/50\n",
      "40/40 [==============================] - 0s 5ms/step - loss: 0.9025 - accuracy: 0.6020 - val_loss: 1.0194 - val_accuracy: 0.5063\n",
      "Epoch 44/50\n",
      "40/40 [==============================] - 0s 4ms/step - loss: 0.9022 - accuracy: 0.6138 - val_loss: 1.0174 - val_accuracy: 0.5063\n",
      "Epoch 45/50\n",
      "40/40 [==============================] - 0s 5ms/step - loss: 0.8990 - accuracy: 0.6067 - val_loss: 1.0885 - val_accuracy: 0.4938\n",
      "Epoch 46/50\n",
      "40/40 [==============================] - 0s 5ms/step - loss: 0.9050 - accuracy: 0.6052 - val_loss: 1.0240 - val_accuracy: 0.5063\n",
      "Epoch 47/50\n",
      "40/40 [==============================] - 0s 6ms/step - loss: 0.8772 - accuracy: 0.6325 - val_loss: 1.0165 - val_accuracy: 0.5125\n",
      "Epoch 48/50\n",
      "40/40 [==============================] - 0s 5ms/step - loss: 0.8747 - accuracy: 0.6153 - val_loss: 0.9834 - val_accuracy: 0.5312\n",
      "Epoch 49/50\n",
      "40/40 [==============================] - 0s 5ms/step - loss: 0.8973 - accuracy: 0.6083 - val_loss: 0.9787 - val_accuracy: 0.5188\n",
      "Epoch 50/50\n",
      "40/40 [==============================] - 0s 5ms/step - loss: 0.8813 - accuracy: 0.6247 - val_loss: 0.9561 - val_accuracy: 0.5312\n",
      "5/5 [==============================] - 0s 3ms/step - loss: 0.9711 - accuracy: 0.6062\n",
      "Accuracy: 60.62\n"
     ]
    }
   ],
   "source": [
    "from tensorflow.keras.models import Sequential\n",
    "from tensorflow.keras.layers import Dense\n",
    "\n",
    "model = Sequential()\n",
    "model.add(Dense(512, activation='relu'))\n",
    "model.add(Dense(256, activation='relu'))\n",
    "model.add(Dense(128, activation='relu'))\n",
    "model.add(Dense(64, activation='relu'))\n",
    "model.add(Dense(11, activation='softmax'))\n",
    "\n",
    "model.compile(optimizer='adam',\n",
    "              loss='categorical_crossentropy',\n",
    "              metrics=['accuracy'])\n",
    "\n",
    "model.fit(X_train, y_train, epochs=50, batch_size=32, validation_data=(X_valid, y_valid))\n",
    "\n",
    "loss, accuracy = model.evaluate(X_test, y_test)\n",
    "print('Accuracy: %.2f' % (accuracy*100))"
   ]
  },
  {
   "cell_type": "code",
   "execution_count": 5,
   "id": "f161cad9",
   "metadata": {
    "execution": {
     "iopub.execute_input": "2023-04-23T21:59:53.232061Z",
     "iopub.status.busy": "2023-04-23T21:59:53.231257Z",
     "iopub.status.idle": "2023-04-23T21:59:53.472471Z",
     "shell.execute_reply": "2023-04-23T21:59:53.470946Z"
    },
    "papermill": {
     "duration": 0.264825,
     "end_time": "2023-04-23T21:59:53.474993",
     "exception": false,
     "start_time": "2023-04-23T21:59:53.210168",
     "status": "completed"
    },
    "tags": []
   },
   "outputs": [
    {
     "name": "stdout",
     "output_type": "stream",
     "text": [
      "Accuracy: 0.53125\n"
     ]
    }
   ],
   "source": [
    "from sklearn.tree import DecisionTreeClassifier\n",
    "from sklearn import metrics\n",
    "\n",
    "clf = DecisionTreeClassifier()\n",
    "clf.fit(X_train, y_train)\n",
    "y_pred = clf.predict(X_test)\n",
    "print(\"Accuracy:\", metrics.accuracy_score(y_test, y_pred))"
   ]
  },
  {
   "cell_type": "code",
   "execution_count": null,
   "id": "1b11a90c",
   "metadata": {
    "papermill": {
     "duration": 0.018707,
     "end_time": "2023-04-23T21:59:53.512984",
     "exception": false,
     "start_time": "2023-04-23T21:59:53.494277",
     "status": "completed"
    },
    "tags": []
   },
   "outputs": [],
   "source": []
  }
 ],
 "metadata": {
  "kernelspec": {
   "display_name": "Python 3",
   "language": "python",
   "name": "python3"
  },
  "language_info": {
   "codemirror_mode": {
    "name": "ipython",
    "version": 3
   },
   "file_extension": ".py",
   "mimetype": "text/x-python",
   "name": "python",
   "nbconvert_exporter": "python",
   "pygments_lexer": "ipython3",
   "version": "3.7.12"
  },
  "papermill": {
   "default_parameters": {},
   "duration": 35.097875,
   "end_time": "2023-04-23T21:59:56.170413",
   "environment_variables": {},
   "exception": null,
   "input_path": "__notebook__.ipynb",
   "output_path": "__notebook__.ipynb",
   "parameters": {},
   "start_time": "2023-04-23T21:59:21.072538",
   "version": "2.4.0"
  }
 },
 "nbformat": 4,
 "nbformat_minor": 5
}
